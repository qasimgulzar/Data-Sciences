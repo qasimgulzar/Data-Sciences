{
 "cells": [
  {
   "cell_type": "code",
   "execution_count": 29,
   "metadata": {
    "collapsed": true
   },
   "outputs": [],
   "source": [
    "from nltk.corpus import stopwords\n",
    "stop_words=stopwords.words('english')"
   ]
  },
  {
   "cell_type": "code",
   "execution_count": 43,
   "metadata": {},
   "outputs": [],
   "source": [
    "from nltk.tokenize import word_tokenize\n",
    "corps=\"\"\"The question of how far we are from artificial intelligence is complex. When it comes to using computers to make sense of the world from a scientific, government or business perspective, artificial intelligence is here in a big way, and computers will continue to play a larger role as these tools are further developed. However, when it comes to generalised human-like artificial intelligence, computers lag far behind. So our future is safe and in human hands.\"\"\"\n",
    "word_tokens = word_tokenize(corps)"
   ]
  },
  {
   "cell_type": "code",
   "execution_count": 44,
   "metadata": {},
   "outputs": [],
   "source": [
    "filtered_sentence = [w for w in word_tokens if not w in stop_words]"
   ]
  },
  {
   "cell_type": "code",
   "execution_count": 45,
   "metadata": {},
   "outputs": [],
   "source": [
    "filtered_sentence = []\n",
    "\n",
    "for w in word_tokens:\n",
    "    if w not in stop_words:\n",
    "        filtered_sentence.append(w)"
   ]
  },
  {
   "cell_type": "code",
   "execution_count": 46,
   "metadata": {},
   "outputs": [
    {
     "name": "stdout",
     "output_type": "stream",
     "text": [
      "['The', 'question', 'of', 'how', 'far', 'we', 'are', 'from', 'artificial', 'intelligence', 'is', 'complex', '.', 'When', 'it', 'comes', 'to', 'using', 'computers', 'to', 'make', 'sense', 'of', 'the', 'world', 'from', 'a', 'scientific', ',', 'government', 'or', 'business', 'perspective', ',', 'artificial', 'intelligence', 'is', 'here', 'in', 'a', 'big', 'way', ',', 'and', 'computers', 'will', 'continue', 'to', 'play', 'a', 'larger', 'role', 'as', 'these', 'tools', 'are', 'further', 'developed', '.', 'However', ',', 'when', 'it', 'comes', 'to', 'generalised', 'human-like', 'artificial', 'intelligence', ',', 'computers', 'lag', 'far', 'behind', '.', 'So', 'our', 'future', 'is', 'safe', 'and', 'in', 'human', 'hands', '.']\n"
     ]
    }
   ],
   "source": [
    "print(word_tokens)"
   ]
  },
  {
   "cell_type": "code",
   "execution_count": 47,
   "metadata": {},
   "outputs": [],
   "source": [
    "from nltk.stem import WordNetLemmatizer\n",
    "wnl = WordNetLemmatizer()\n",
    "def isplural(word):\n",
    "    lemma = wnl.lemmatize(word, 'n')\n",
    "    plural = True if word is not lemma else False\n",
    "    return plural"
   ]
  },
  {
   "cell_type": "code",
   "execution_count": 48,
   "metadata": {
    "collapsed": false
   },
   "outputs": [
    {
     "name": "stdout",
     "output_type": "stream",
     "text": [
      "The question far artificial intelligence complex . When come using comput make sense world scientific , government business perspective , artificial intelligence big way , comput continue play larger role tool developed . However , come generalised human-like artificial intelligence , comput lag far behind . So future safe human hand .\n"
     ]
    }
   ],
   "source": [
    "from nltk.stem.porter import *\n",
    "stemmer = PorterStemmer()\n",
    "singles = [stemmer.stem(plural) if isplural(plural) else plural for plural in filtered_sentence]\n",
    "print(\" \".join(singles))"
   ]
  },
  {
   "cell_type": "code",
   "execution_count": 36,
   "metadata": {},
   "outputs": [],
   "source": [
    ""
   ]
  },
  {
   "cell_type": "code",
   "execution_count": null,
   "metadata": {},
   "outputs": [],
   "source": [
    ""
   ]
  }
 ],
 "metadata": {
  "kernelspec": {
   "display_name": "Python 2",
   "language": "python",
   "name": "python2"
  },
  "language_info": {
   "codemirror_mode": {
    "name": "ipython",
    "version": 2.0
   },
   "file_extension": ".py",
   "mimetype": "text/x-python",
   "name": "python",
   "nbconvert_exporter": "python",
   "pygments_lexer": "ipython2",
   "version": "2.7.6"
  }
 },
 "nbformat": 4,
 "nbformat_minor": 0
}